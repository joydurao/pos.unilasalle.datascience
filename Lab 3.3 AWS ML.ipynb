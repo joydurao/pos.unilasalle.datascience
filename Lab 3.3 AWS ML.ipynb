{
 "cells": [
  {
   "cell_type": "markdown",
   "id": "1d421ca6",
   "metadata": {},
   "source": [
    "# Importando Códigos"
   ]
  },
  {
   "cell_type": "code",
   "execution_count": 2,
   "id": "57404ff2",
   "metadata": {},
   "outputs": [],
   "source": [
    "import pandas as pd\n",
    "\n",
    "pd.set_option('display.max_rows', 500)\n",
    "pd.set_option('display.max_columns', 500)\n",
    "pd.set_option('display.width', 1000)"
   ]
  },
  {
   "cell_type": "markdown",
   "id": "5888b6a6",
   "metadata": {},
   "source": [
    "# Carregando Conjunto de Dados"
   ]
  },
  {
   "cell_type": "code",
   "execution_count": 3,
   "id": "83cbdbce",
   "metadata": {},
   "outputs": [],
   "source": [
    "url = \"imports-85.csv\"\n",
    "col_names=['symboling','normalized-losses','fuel-type','aspiration','num-of-doors','body-style','drive-wheels','engine-location','wheel-base',\n",
    "                                    'length','width','height','curb-weight','engine-type','num-of-cylinders','engine-size',\n",
    "                                    'fuel-system','bore','stroke','compression-ratio','horsepower','peak-rpm','city-mpg','highway-mpg','price']\n",
    "\n",
    "df_car = pd.read_csv(url,',',names = col_names ,na_values=\"?\",  header=None)"
   ]
  },
  {
   "cell_type": "markdown",
   "id": "1abc2e8b",
   "metadata": {},
   "source": [
    "## Vendo número de linhas e colunas"
   ]
  },
  {
   "cell_type": "code",
   "execution_count": 4,
   "id": "7595f3ed",
   "metadata": {},
   "outputs": [
    {
     "data": {
      "text/plain": [
       "(205, 25)"
      ]
     },
     "execution_count": 4,
     "metadata": {},
     "output_type": "execute_result"
    }
   ],
   "source": [
    "df_car.shape"
   ]
  },
  {
   "cell_type": "markdown",
   "id": "d77993bd",
   "metadata": {},
   "source": [
    "## Examinando os dados"
   ]
  },
  {
   "cell_type": "code",
   "execution_count": 5,
   "id": "2e923365",
   "metadata": {},
   "outputs": [
    {
     "data": {
      "text/html": [
       "<div>\n",
       "<style scoped>\n",
       "    .dataframe tbody tr th:only-of-type {\n",
       "        vertical-align: middle;\n",
       "    }\n",
       "\n",
       "    .dataframe tbody tr th {\n",
       "        vertical-align: top;\n",
       "    }\n",
       "\n",
       "    .dataframe thead th {\n",
       "        text-align: right;\n",
       "    }\n",
       "</style>\n",
       "<table border=\"1\" class=\"dataframe\">\n",
       "  <thead>\n",
       "    <tr style=\"text-align: right;\">\n",
       "      <th></th>\n",
       "      <th>symboling</th>\n",
       "      <th>normalized-losses</th>\n",
       "      <th>fuel-type</th>\n",
       "      <th>aspiration</th>\n",
       "      <th>num-of-doors</th>\n",
       "      <th>body-style</th>\n",
       "      <th>drive-wheels</th>\n",
       "      <th>engine-location</th>\n",
       "      <th>wheel-base</th>\n",
       "      <th>length</th>\n",
       "      <th>width</th>\n",
       "      <th>height</th>\n",
       "      <th>curb-weight</th>\n",
       "      <th>engine-type</th>\n",
       "      <th>num-of-cylinders</th>\n",
       "      <th>engine-size</th>\n",
       "      <th>fuel-system</th>\n",
       "      <th>bore</th>\n",
       "      <th>stroke</th>\n",
       "      <th>compression-ratio</th>\n",
       "      <th>horsepower</th>\n",
       "      <th>peak-rpm</th>\n",
       "      <th>city-mpg</th>\n",
       "      <th>highway-mpg</th>\n",
       "      <th>price</th>\n",
       "    </tr>\n",
       "  </thead>\n",
       "  <tbody>\n",
       "    <tr>\n",
       "      <th>0</th>\n",
       "      <td>3</td>\n",
       "      <td>NaN</td>\n",
       "      <td>gas</td>\n",
       "      <td>std</td>\n",
       "      <td>two</td>\n",
       "      <td>convertible</td>\n",
       "      <td>rwd</td>\n",
       "      <td>front</td>\n",
       "      <td>88.6</td>\n",
       "      <td>168.8</td>\n",
       "      <td>64.1</td>\n",
       "      <td>48.8</td>\n",
       "      <td>2548</td>\n",
       "      <td>dohc</td>\n",
       "      <td>four</td>\n",
       "      <td>130</td>\n",
       "      <td>mpfi</td>\n",
       "      <td>3.47</td>\n",
       "      <td>2.68</td>\n",
       "      <td>9.0</td>\n",
       "      <td>111.0</td>\n",
       "      <td>5000.0</td>\n",
       "      <td>21</td>\n",
       "      <td>27</td>\n",
       "      <td>13495.0</td>\n",
       "    </tr>\n",
       "    <tr>\n",
       "      <th>1</th>\n",
       "      <td>3</td>\n",
       "      <td>NaN</td>\n",
       "      <td>gas</td>\n",
       "      <td>std</td>\n",
       "      <td>two</td>\n",
       "      <td>convertible</td>\n",
       "      <td>rwd</td>\n",
       "      <td>front</td>\n",
       "      <td>88.6</td>\n",
       "      <td>168.8</td>\n",
       "      <td>64.1</td>\n",
       "      <td>48.8</td>\n",
       "      <td>2548</td>\n",
       "      <td>dohc</td>\n",
       "      <td>four</td>\n",
       "      <td>130</td>\n",
       "      <td>mpfi</td>\n",
       "      <td>3.47</td>\n",
       "      <td>2.68</td>\n",
       "      <td>9.0</td>\n",
       "      <td>111.0</td>\n",
       "      <td>5000.0</td>\n",
       "      <td>21</td>\n",
       "      <td>27</td>\n",
       "      <td>16500.0</td>\n",
       "    </tr>\n",
       "    <tr>\n",
       "      <th>2</th>\n",
       "      <td>1</td>\n",
       "      <td>NaN</td>\n",
       "      <td>gas</td>\n",
       "      <td>std</td>\n",
       "      <td>two</td>\n",
       "      <td>hatchback</td>\n",
       "      <td>rwd</td>\n",
       "      <td>front</td>\n",
       "      <td>94.5</td>\n",
       "      <td>171.2</td>\n",
       "      <td>65.5</td>\n",
       "      <td>52.4</td>\n",
       "      <td>2823</td>\n",
       "      <td>ohcv</td>\n",
       "      <td>six</td>\n",
       "      <td>152</td>\n",
       "      <td>mpfi</td>\n",
       "      <td>2.68</td>\n",
       "      <td>3.47</td>\n",
       "      <td>9.0</td>\n",
       "      <td>154.0</td>\n",
       "      <td>5000.0</td>\n",
       "      <td>19</td>\n",
       "      <td>26</td>\n",
       "      <td>16500.0</td>\n",
       "    </tr>\n",
       "    <tr>\n",
       "      <th>3</th>\n",
       "      <td>2</td>\n",
       "      <td>164.0</td>\n",
       "      <td>gas</td>\n",
       "      <td>std</td>\n",
       "      <td>four</td>\n",
       "      <td>sedan</td>\n",
       "      <td>fwd</td>\n",
       "      <td>front</td>\n",
       "      <td>99.8</td>\n",
       "      <td>176.6</td>\n",
       "      <td>66.2</td>\n",
       "      <td>54.3</td>\n",
       "      <td>2337</td>\n",
       "      <td>ohc</td>\n",
       "      <td>four</td>\n",
       "      <td>109</td>\n",
       "      <td>mpfi</td>\n",
       "      <td>3.19</td>\n",
       "      <td>3.40</td>\n",
       "      <td>10.0</td>\n",
       "      <td>102.0</td>\n",
       "      <td>5500.0</td>\n",
       "      <td>24</td>\n",
       "      <td>30</td>\n",
       "      <td>13950.0</td>\n",
       "    </tr>\n",
       "    <tr>\n",
       "      <th>4</th>\n",
       "      <td>2</td>\n",
       "      <td>164.0</td>\n",
       "      <td>gas</td>\n",
       "      <td>std</td>\n",
       "      <td>four</td>\n",
       "      <td>sedan</td>\n",
       "      <td>4wd</td>\n",
       "      <td>front</td>\n",
       "      <td>99.4</td>\n",
       "      <td>176.6</td>\n",
       "      <td>66.4</td>\n",
       "      <td>54.3</td>\n",
       "      <td>2824</td>\n",
       "      <td>ohc</td>\n",
       "      <td>five</td>\n",
       "      <td>136</td>\n",
       "      <td>mpfi</td>\n",
       "      <td>3.19</td>\n",
       "      <td>3.40</td>\n",
       "      <td>8.0</td>\n",
       "      <td>115.0</td>\n",
       "      <td>5500.0</td>\n",
       "      <td>18</td>\n",
       "      <td>22</td>\n",
       "      <td>17450.0</td>\n",
       "    </tr>\n",
       "  </tbody>\n",
       "</table>\n",
       "</div>"
      ],
      "text/plain": [
       "   symboling  normalized-losses fuel-type aspiration num-of-doors   body-style drive-wheels engine-location  wheel-base  length  width  height  curb-weight engine-type num-of-cylinders  engine-size fuel-system  bore  stroke  compression-ratio  horsepower  peak-rpm  city-mpg  highway-mpg    price\n",
       "0          3                NaN       gas        std          two  convertible          rwd           front        88.6   168.8   64.1    48.8         2548        dohc             four          130        mpfi  3.47    2.68                9.0       111.0    5000.0        21           27  13495.0\n",
       "1          3                NaN       gas        std          two  convertible          rwd           front        88.6   168.8   64.1    48.8         2548        dohc             four          130        mpfi  3.47    2.68                9.0       111.0    5000.0        21           27  16500.0\n",
       "2          1                NaN       gas        std          two    hatchback          rwd           front        94.5   171.2   65.5    52.4         2823        ohcv              six          152        mpfi  2.68    3.47                9.0       154.0    5000.0        19           26  16500.0\n",
       "3          2              164.0       gas        std         four        sedan          fwd           front        99.8   176.6   66.2    54.3         2337         ohc             four          109        mpfi  3.19    3.40               10.0       102.0    5500.0        24           30  13950.0\n",
       "4          2              164.0       gas        std         four        sedan          4wd           front        99.4   176.6   66.4    54.3         2824         ohc             five          136        mpfi  3.19    3.40                8.0       115.0    5500.0        18           22  17450.0"
      ]
     },
     "execution_count": 5,
     "metadata": {},
     "output_type": "execute_result"
    }
   ],
   "source": [
    "df_car.head(5)"
   ]
  },
  {
   "cell_type": "markdown",
   "id": "bc9afd65",
   "metadata": {},
   "source": [
    "### Obtendo informações das colunas"
   ]
  },
  {
   "cell_type": "code",
   "execution_count": 6,
   "id": "dc3aefca",
   "metadata": {},
   "outputs": [
    {
     "name": "stdout",
     "output_type": "stream",
     "text": [
      "<class 'pandas.core.frame.DataFrame'>\n",
      "RangeIndex: 205 entries, 0 to 204\n",
      "Data columns (total 25 columns):\n",
      " #   Column             Non-Null Count  Dtype  \n",
      "---  ------             --------------  -----  \n",
      " 0   symboling          205 non-null    int64  \n",
      " 1   normalized-losses  164 non-null    float64\n",
      " 2   fuel-type          205 non-null    object \n",
      " 3   aspiration         205 non-null    object \n",
      " 4   num-of-doors       203 non-null    object \n",
      " 5   body-style         205 non-null    object \n",
      " 6   drive-wheels       205 non-null    object \n",
      " 7   engine-location    205 non-null    object \n",
      " 8   wheel-base         205 non-null    float64\n",
      " 9   length             205 non-null    float64\n",
      " 10  width              205 non-null    float64\n",
      " 11  height             205 non-null    float64\n",
      " 12  curb-weight        205 non-null    int64  \n",
      " 13  engine-type        205 non-null    object \n",
      " 14  num-of-cylinders   205 non-null    object \n",
      " 15  engine-size        205 non-null    int64  \n",
      " 16  fuel-system        205 non-null    object \n",
      " 17  bore               201 non-null    float64\n",
      " 18  stroke             201 non-null    float64\n",
      " 19  compression-ratio  205 non-null    float64\n",
      " 20  horsepower         203 non-null    float64\n",
      " 21  peak-rpm           203 non-null    float64\n",
      " 22  city-mpg           205 non-null    int64  \n",
      " 23  highway-mpg        205 non-null    int64  \n",
      " 24  price              201 non-null    float64\n",
      "dtypes: float64(11), int64(5), object(9)\n",
      "memory usage: 40.2+ KB\n"
     ]
    }
   ],
   "source": [
    "df_car.info()"
   ]
  },
  {
   "cell_type": "markdown",
   "id": "295bf638",
   "metadata": {},
   "source": [
    "### Eliminando colunas não utilizadas"
   ]
  },
  {
   "cell_type": "code",
   "execution_count": 7,
   "id": "84a79496",
   "metadata": {},
   "outputs": [
    {
     "data": {
      "text/plain": [
       "Index(['symboling', 'normalized-losses', 'fuel-type', 'aspiration', 'num-of-doors', 'body-style', 'drive-wheels', 'engine-location', 'wheel-base', 'length', 'width', 'height', 'curb-weight', 'engine-type', 'num-of-cylinders', 'engine-size', 'fuel-system', 'bore', 'stroke', 'compression-ratio', 'horsepower', 'peak-rpm', 'city-mpg', 'highway-mpg', 'price'], dtype='object')"
      ]
     },
     "execution_count": 7,
     "metadata": {},
     "output_type": "execute_result"
    }
   ],
   "source": [
    "df_car.columns"
   ]
  },
  {
   "cell_type": "code",
   "execution_count": 8,
   "id": "f4ff729b",
   "metadata": {},
   "outputs": [],
   "source": [
    "df_car = df_car[[ 'aspiration', 'num-of-doors',  'drive-wheels',  'num-of-cylinders']].copy()"
   ]
  },
  {
   "cell_type": "markdown",
   "id": "bc2ec7e8",
   "metadata": {},
   "source": [
    "### Verificando colunas selecionadas"
   ]
  },
  {
   "cell_type": "code",
   "execution_count": 9,
   "id": "bfcd4561",
   "metadata": {},
   "outputs": [
    {
     "data": {
      "text/html": [
       "<div>\n",
       "<style scoped>\n",
       "    .dataframe tbody tr th:only-of-type {\n",
       "        vertical-align: middle;\n",
       "    }\n",
       "\n",
       "    .dataframe tbody tr th {\n",
       "        vertical-align: top;\n",
       "    }\n",
       "\n",
       "    .dataframe thead th {\n",
       "        text-align: right;\n",
       "    }\n",
       "</style>\n",
       "<table border=\"1\" class=\"dataframe\">\n",
       "  <thead>\n",
       "    <tr style=\"text-align: right;\">\n",
       "      <th></th>\n",
       "      <th>aspiration</th>\n",
       "      <th>num-of-doors</th>\n",
       "      <th>drive-wheels</th>\n",
       "      <th>num-of-cylinders</th>\n",
       "    </tr>\n",
       "  </thead>\n",
       "  <tbody>\n",
       "    <tr>\n",
       "      <th>0</th>\n",
       "      <td>std</td>\n",
       "      <td>two</td>\n",
       "      <td>rwd</td>\n",
       "      <td>four</td>\n",
       "    </tr>\n",
       "    <tr>\n",
       "      <th>1</th>\n",
       "      <td>std</td>\n",
       "      <td>two</td>\n",
       "      <td>rwd</td>\n",
       "      <td>four</td>\n",
       "    </tr>\n",
       "    <tr>\n",
       "      <th>2</th>\n",
       "      <td>std</td>\n",
       "      <td>two</td>\n",
       "      <td>rwd</td>\n",
       "      <td>six</td>\n",
       "    </tr>\n",
       "    <tr>\n",
       "      <th>3</th>\n",
       "      <td>std</td>\n",
       "      <td>four</td>\n",
       "      <td>fwd</td>\n",
       "      <td>four</td>\n",
       "    </tr>\n",
       "    <tr>\n",
       "      <th>4</th>\n",
       "      <td>std</td>\n",
       "      <td>four</td>\n",
       "      <td>4wd</td>\n",
       "      <td>five</td>\n",
       "    </tr>\n",
       "  </tbody>\n",
       "</table>\n",
       "</div>"
      ],
      "text/plain": [
       "  aspiration num-of-doors drive-wheels num-of-cylinders\n",
       "0        std          two          rwd             four\n",
       "1        std          two          rwd             four\n",
       "2        std          two          rwd              six\n",
       "3        std         four          fwd             four\n",
       "4        std         four          4wd             five"
      ]
     },
     "execution_count": 9,
     "metadata": {},
     "output_type": "execute_result"
    }
   ],
   "source": [
    "df_car.head()"
   ]
  },
  {
   "cell_type": "markdown",
   "id": "113a7632",
   "metadata": {},
   "source": [
    "# Codificação de Componentes Ordinais"
   ]
  },
  {
   "cell_type": "markdown",
   "id": "d1d39fd7",
   "metadata": {},
   "source": [
    "### Obtendo informações sobre o dataframe"
   ]
  },
  {
   "cell_type": "code",
   "execution_count": 10,
   "id": "43256e62",
   "metadata": {},
   "outputs": [
    {
     "name": "stdout",
     "output_type": "stream",
     "text": [
      "<class 'pandas.core.frame.DataFrame'>\n",
      "RangeIndex: 205 entries, 0 to 204\n",
      "Data columns (total 4 columns):\n",
      " #   Column            Non-Null Count  Dtype \n",
      "---  ------            --------------  ----- \n",
      " 0   aspiration        205 non-null    object\n",
      " 1   num-of-doors      203 non-null    object\n",
      " 2   drive-wheels      205 non-null    object\n",
      " 3   num-of-cylinders  205 non-null    object\n",
      "dtypes: object(4)\n",
      "memory usage: 6.5+ KB\n"
     ]
    }
   ],
   "source": [
    "df_car.info()"
   ]
  },
  {
   "cell_type": "markdown",
   "id": "2b3cb3e3",
   "metadata": {},
   "source": [
    "### Descobrindo valores nas features ordinais com a função value_counts"
   ]
  },
  {
   "cell_type": "code",
   "execution_count": 11,
   "id": "4326f21a",
   "metadata": {},
   "outputs": [
    {
     "data": {
      "text/plain": [
       "four    114\n",
       "two      89\n",
       "Name: num-of-doors, dtype: int64"
      ]
     },
     "execution_count": 11,
     "metadata": {},
     "output_type": "execute_result"
    }
   ],
   "source": [
    "df_car['num-of-doors'].value_counts()"
   ]
  },
  {
   "cell_type": "markdown",
   "id": "f17d0ccd",
   "metadata": {},
   "source": [
    "### Criando mapeamento"
   ]
  },
  {
   "cell_type": "code",
   "execution_count": 12,
   "id": "5687a412",
   "metadata": {},
   "outputs": [],
   "source": [
    "door_mapper = {\"two\": 2,\n",
    "              \"four\": 4}"
   ]
  },
  {
   "cell_type": "markdown",
   "id": "f80529ba",
   "metadata": {},
   "source": [
    "### Utilizando replace do pandas para gerar nova coluna numérica"
   ]
  },
  {
   "cell_type": "code",
   "execution_count": 13,
   "id": "07d94394",
   "metadata": {},
   "outputs": [],
   "source": [
    "# nova coluna num-of-doors"
   ]
  },
  {
   "cell_type": "code",
   "execution_count": 15,
   "id": "dc7aa908",
   "metadata": {},
   "outputs": [],
   "source": [
    "df_car['doors'] = df_car[\"num-of-doors\"].replace(door_mapper)"
   ]
  },
  {
   "cell_type": "markdown",
   "id": "f8541dbe",
   "metadata": {},
   "source": [
    "### Exibindo o dataframe"
   ]
  },
  {
   "cell_type": "code",
   "execution_count": 16,
   "id": "35e39936",
   "metadata": {},
   "outputs": [
    {
     "data": {
      "text/html": [
       "<div>\n",
       "<style scoped>\n",
       "    .dataframe tbody tr th:only-of-type {\n",
       "        vertical-align: middle;\n",
       "    }\n",
       "\n",
       "    .dataframe tbody tr th {\n",
       "        vertical-align: top;\n",
       "    }\n",
       "\n",
       "    .dataframe thead th {\n",
       "        text-align: right;\n",
       "    }\n",
       "</style>\n",
       "<table border=\"1\" class=\"dataframe\">\n",
       "  <thead>\n",
       "    <tr style=\"text-align: right;\">\n",
       "      <th></th>\n",
       "      <th>aspiration</th>\n",
       "      <th>num-of-doors</th>\n",
       "      <th>drive-wheels</th>\n",
       "      <th>num-of-cylinders</th>\n",
       "      <th>doors</th>\n",
       "    </tr>\n",
       "  </thead>\n",
       "  <tbody>\n",
       "    <tr>\n",
       "      <th>0</th>\n",
       "      <td>std</td>\n",
       "      <td>two</td>\n",
       "      <td>rwd</td>\n",
       "      <td>four</td>\n",
       "      <td>2.0</td>\n",
       "    </tr>\n",
       "    <tr>\n",
       "      <th>1</th>\n",
       "      <td>std</td>\n",
       "      <td>two</td>\n",
       "      <td>rwd</td>\n",
       "      <td>four</td>\n",
       "      <td>2.0</td>\n",
       "    </tr>\n",
       "    <tr>\n",
       "      <th>2</th>\n",
       "      <td>std</td>\n",
       "      <td>two</td>\n",
       "      <td>rwd</td>\n",
       "      <td>six</td>\n",
       "      <td>2.0</td>\n",
       "    </tr>\n",
       "    <tr>\n",
       "      <th>3</th>\n",
       "      <td>std</td>\n",
       "      <td>four</td>\n",
       "      <td>fwd</td>\n",
       "      <td>four</td>\n",
       "      <td>4.0</td>\n",
       "    </tr>\n",
       "    <tr>\n",
       "      <th>4</th>\n",
       "      <td>std</td>\n",
       "      <td>four</td>\n",
       "      <td>4wd</td>\n",
       "      <td>five</td>\n",
       "      <td>4.0</td>\n",
       "    </tr>\n",
       "  </tbody>\n",
       "</table>\n",
       "</div>"
      ],
      "text/plain": [
       "  aspiration num-of-doors drive-wheels num-of-cylinders  doors\n",
       "0        std          two          rwd             four    2.0\n",
       "1        std          two          rwd             four    2.0\n",
       "2        std          two          rwd              six    2.0\n",
       "3        std         four          fwd             four    4.0\n",
       "4        std         four          4wd             five    4.0"
      ]
     },
     "execution_count": 16,
     "metadata": {},
     "output_type": "execute_result"
    }
   ],
   "source": [
    "df_car.head()"
   ]
  },
  {
   "cell_type": "markdown",
   "id": "82a18cb8",
   "metadata": {},
   "source": [
    "#### Repetindo o processo com a var num-of-cylinders"
   ]
  },
  {
   "cell_type": "code",
   "execution_count": 17,
   "id": "324383f9",
   "metadata": {},
   "outputs": [
    {
     "data": {
      "text/plain": [
       "four      159\n",
       "six        24\n",
       "five       11\n",
       "eight       5\n",
       "two         4\n",
       "twelve      1\n",
       "three       1\n",
       "Name: num-of-cylinders, dtype: int64"
      ]
     },
     "execution_count": 17,
     "metadata": {},
     "output_type": "execute_result"
    }
   ],
   "source": [
    "df_car['num-of-cylinders'].value_counts()"
   ]
  },
  {
   "cell_type": "code",
   "execution_count": 18,
   "id": "57599833",
   "metadata": {},
   "outputs": [],
   "source": [
    "cylinder_mapper = {\"two\":2,\n",
    "                  \"three\":3,\n",
    "                  \"four\":4,\n",
    "                  \"five\":5,\n",
    "                  \"six\":6,\n",
    "                  \"eight\":8,\n",
    "                  \"twelve\":12}"
   ]
  },
  {
   "cell_type": "code",
   "execution_count": 19,
   "id": "0ca0708f",
   "metadata": {},
   "outputs": [],
   "source": [
    "df_car['cylinders'] = df_car['num-of-cylinders'].replace(cylinder_mapper)"
   ]
  },
  {
   "cell_type": "code",
   "execution_count": 20,
   "id": "083b86ff",
   "metadata": {},
   "outputs": [
    {
     "data": {
      "text/html": [
       "<div>\n",
       "<style scoped>\n",
       "    .dataframe tbody tr th:only-of-type {\n",
       "        vertical-align: middle;\n",
       "    }\n",
       "\n",
       "    .dataframe tbody tr th {\n",
       "        vertical-align: top;\n",
       "    }\n",
       "\n",
       "    .dataframe thead th {\n",
       "        text-align: right;\n",
       "    }\n",
       "</style>\n",
       "<table border=\"1\" class=\"dataframe\">\n",
       "  <thead>\n",
       "    <tr style=\"text-align: right;\">\n",
       "      <th></th>\n",
       "      <th>aspiration</th>\n",
       "      <th>num-of-doors</th>\n",
       "      <th>drive-wheels</th>\n",
       "      <th>num-of-cylinders</th>\n",
       "      <th>doors</th>\n",
       "      <th>cylinders</th>\n",
       "    </tr>\n",
       "  </thead>\n",
       "  <tbody>\n",
       "    <tr>\n",
       "      <th>0</th>\n",
       "      <td>std</td>\n",
       "      <td>two</td>\n",
       "      <td>rwd</td>\n",
       "      <td>four</td>\n",
       "      <td>2.0</td>\n",
       "      <td>4</td>\n",
       "    </tr>\n",
       "    <tr>\n",
       "      <th>1</th>\n",
       "      <td>std</td>\n",
       "      <td>two</td>\n",
       "      <td>rwd</td>\n",
       "      <td>four</td>\n",
       "      <td>2.0</td>\n",
       "      <td>4</td>\n",
       "    </tr>\n",
       "    <tr>\n",
       "      <th>2</th>\n",
       "      <td>std</td>\n",
       "      <td>two</td>\n",
       "      <td>rwd</td>\n",
       "      <td>six</td>\n",
       "      <td>2.0</td>\n",
       "      <td>6</td>\n",
       "    </tr>\n",
       "    <tr>\n",
       "      <th>3</th>\n",
       "      <td>std</td>\n",
       "      <td>four</td>\n",
       "      <td>fwd</td>\n",
       "      <td>four</td>\n",
       "      <td>4.0</td>\n",
       "      <td>4</td>\n",
       "    </tr>\n",
       "    <tr>\n",
       "      <th>4</th>\n",
       "      <td>std</td>\n",
       "      <td>four</td>\n",
       "      <td>4wd</td>\n",
       "      <td>five</td>\n",
       "      <td>4.0</td>\n",
       "      <td>5</td>\n",
       "    </tr>\n",
       "  </tbody>\n",
       "</table>\n",
       "</div>"
      ],
      "text/plain": [
       "  aspiration num-of-doors drive-wheels num-of-cylinders  doors  cylinders\n",
       "0        std          two          rwd             four    2.0          4\n",
       "1        std          two          rwd             four    2.0          4\n",
       "2        std          two          rwd              six    2.0          6\n",
       "3        std         four          fwd             four    4.0          4\n",
       "4        std         four          4wd             five    4.0          5"
      ]
     },
     "execution_count": 20,
     "metadata": {},
     "output_type": "execute_result"
    }
   ],
   "source": [
    "df_car.head()"
   ]
  },
  {
   "cell_type": "markdown",
   "id": "ef86a946",
   "metadata": {},
   "source": [
    "## Codificando Dados Categóricos Não-Ordinais"
   ]
  },
  {
   "cell_type": "code",
   "execution_count": 21,
   "id": "e359fc45",
   "metadata": {},
   "outputs": [],
   "source": [
    "# utilizaremos a função get_dummies"
   ]
  },
  {
   "cell_type": "markdown",
   "id": "ebf6865e",
   "metadata": {},
   "source": [
    "### Verificando o atributodrive-wheels"
   ]
  },
  {
   "cell_type": "code",
   "execution_count": 22,
   "id": "a6c35e9e",
   "metadata": {},
   "outputs": [
    {
     "data": {
      "text/plain": [
       "fwd    120\n",
       "rwd     76\n",
       "4wd      9\n",
       "Name: drive-wheels, dtype: int64"
      ]
     },
     "execution_count": 22,
     "metadata": {},
     "output_type": "execute_result"
    }
   ],
   "source": [
    "df_car['drive-wheels'].value_counts()"
   ]
  },
  {
   "cell_type": "markdown",
   "id": "9398abc3",
   "metadata": {},
   "source": [
    "### Utilizando o get_dummies para adicionar novos componentes binários ao dataframe"
   ]
  },
  {
   "cell_type": "code",
   "execution_count": 23,
   "id": "5523b362",
   "metadata": {},
   "outputs": [],
   "source": [
    "df_car = pd.get_dummies(df_car,columns=['drive-wheels'])"
   ]
  },
  {
   "cell_type": "code",
   "execution_count": 25,
   "id": "6e1afec7",
   "metadata": {},
   "outputs": [
    {
     "data": {
      "text/html": [
       "<div>\n",
       "<style scoped>\n",
       "    .dataframe tbody tr th:only-of-type {\n",
       "        vertical-align: middle;\n",
       "    }\n",
       "\n",
       "    .dataframe tbody tr th {\n",
       "        vertical-align: top;\n",
       "    }\n",
       "\n",
       "    .dataframe thead th {\n",
       "        text-align: right;\n",
       "    }\n",
       "</style>\n",
       "<table border=\"1\" class=\"dataframe\">\n",
       "  <thead>\n",
       "    <tr style=\"text-align: right;\">\n",
       "      <th></th>\n",
       "      <th>aspiration</th>\n",
       "      <th>num-of-doors</th>\n",
       "      <th>num-of-cylinders</th>\n",
       "      <th>doors</th>\n",
       "      <th>cylinders</th>\n",
       "      <th>drive-wheels_4wd</th>\n",
       "      <th>drive-wheels_fwd</th>\n",
       "      <th>drive-wheels_rwd</th>\n",
       "    </tr>\n",
       "  </thead>\n",
       "  <tbody>\n",
       "    <tr>\n",
       "      <th>0</th>\n",
       "      <td>std</td>\n",
       "      <td>two</td>\n",
       "      <td>four</td>\n",
       "      <td>2.0</td>\n",
       "      <td>4</td>\n",
       "      <td>0</td>\n",
       "      <td>0</td>\n",
       "      <td>1</td>\n",
       "    </tr>\n",
       "    <tr>\n",
       "      <th>1</th>\n",
       "      <td>std</td>\n",
       "      <td>two</td>\n",
       "      <td>four</td>\n",
       "      <td>2.0</td>\n",
       "      <td>4</td>\n",
       "      <td>0</td>\n",
       "      <td>0</td>\n",
       "      <td>1</td>\n",
       "    </tr>\n",
       "    <tr>\n",
       "      <th>2</th>\n",
       "      <td>std</td>\n",
       "      <td>two</td>\n",
       "      <td>six</td>\n",
       "      <td>2.0</td>\n",
       "      <td>6</td>\n",
       "      <td>0</td>\n",
       "      <td>0</td>\n",
       "      <td>1</td>\n",
       "    </tr>\n",
       "    <tr>\n",
       "      <th>3</th>\n",
       "      <td>std</td>\n",
       "      <td>four</td>\n",
       "      <td>four</td>\n",
       "      <td>4.0</td>\n",
       "      <td>4</td>\n",
       "      <td>0</td>\n",
       "      <td>1</td>\n",
       "      <td>0</td>\n",
       "    </tr>\n",
       "    <tr>\n",
       "      <th>4</th>\n",
       "      <td>std</td>\n",
       "      <td>four</td>\n",
       "      <td>five</td>\n",
       "      <td>4.0</td>\n",
       "      <td>5</td>\n",
       "      <td>1</td>\n",
       "      <td>0</td>\n",
       "      <td>0</td>\n",
       "    </tr>\n",
       "  </tbody>\n",
       "</table>\n",
       "</div>"
      ],
      "text/plain": [
       "  aspiration num-of-doors num-of-cylinders  doors  cylinders  drive-wheels_4wd  drive-wheels_fwd  drive-wheels_rwd\n",
       "0        std          two             four    2.0          4                 0                 0                 1\n",
       "1        std          two             four    2.0          4                 0                 0                 1\n",
       "2        std          two              six    2.0          6                 0                 0                 1\n",
       "3        std         four             four    4.0          4                 0                 1                 0\n",
       "4        std         four             five    4.0          5                 1                 0                 0"
      ]
     },
     "execution_count": 25,
     "metadata": {},
     "output_type": "execute_result"
    }
   ],
   "source": [
    "df_car.head()"
   ]
  },
  {
   "cell_type": "markdown",
   "id": "24255d97",
   "metadata": {},
   "source": [
    "### Utilizando o método drop_first para categorizar como True um certo resultado do atributo"
   ]
  },
  {
   "cell_type": "code",
   "execution_count": 26,
   "id": "e78c1ee4",
   "metadata": {},
   "outputs": [],
   "source": [
    "# Trabalharemos no atributo aspiration que possui dois resultados std ou turbo"
   ]
  },
  {
   "cell_type": "code",
   "execution_count": 27,
   "id": "8f77cbf7",
   "metadata": {},
   "outputs": [
    {
     "data": {
      "text/plain": [
       "std      168\n",
       "turbo     37\n",
       "Name: aspiration, dtype: int64"
      ]
     },
     "execution_count": 27,
     "metadata": {},
     "output_type": "execute_result"
    }
   ],
   "source": [
    "df_car['aspiration'].value_counts()"
   ]
  },
  {
   "cell_type": "code",
   "execution_count": 28,
   "id": "c699f185",
   "metadata": {},
   "outputs": [],
   "source": [
    "df_car = pd.get_dummies(df_car,columns=['aspiration'], drop_first=True)"
   ]
  },
  {
   "cell_type": "code",
   "execution_count": 29,
   "id": "dd89413e",
   "metadata": {},
   "outputs": [
    {
     "data": {
      "text/html": [
       "<div>\n",
       "<style scoped>\n",
       "    .dataframe tbody tr th:only-of-type {\n",
       "        vertical-align: middle;\n",
       "    }\n",
       "\n",
       "    .dataframe tbody tr th {\n",
       "        vertical-align: top;\n",
       "    }\n",
       "\n",
       "    .dataframe thead th {\n",
       "        text-align: right;\n",
       "    }\n",
       "</style>\n",
       "<table border=\"1\" class=\"dataframe\">\n",
       "  <thead>\n",
       "    <tr style=\"text-align: right;\">\n",
       "      <th></th>\n",
       "      <th>num-of-doors</th>\n",
       "      <th>num-of-cylinders</th>\n",
       "      <th>doors</th>\n",
       "      <th>cylinders</th>\n",
       "      <th>drive-wheels_4wd</th>\n",
       "      <th>drive-wheels_fwd</th>\n",
       "      <th>drive-wheels_rwd</th>\n",
       "      <th>aspiration_turbo</th>\n",
       "    </tr>\n",
       "  </thead>\n",
       "  <tbody>\n",
       "    <tr>\n",
       "      <th>0</th>\n",
       "      <td>two</td>\n",
       "      <td>four</td>\n",
       "      <td>2.0</td>\n",
       "      <td>4</td>\n",
       "      <td>0</td>\n",
       "      <td>0</td>\n",
       "      <td>1</td>\n",
       "      <td>0</td>\n",
       "    </tr>\n",
       "    <tr>\n",
       "      <th>1</th>\n",
       "      <td>two</td>\n",
       "      <td>four</td>\n",
       "      <td>2.0</td>\n",
       "      <td>4</td>\n",
       "      <td>0</td>\n",
       "      <td>0</td>\n",
       "      <td>1</td>\n",
       "      <td>0</td>\n",
       "    </tr>\n",
       "    <tr>\n",
       "      <th>2</th>\n",
       "      <td>two</td>\n",
       "      <td>six</td>\n",
       "      <td>2.0</td>\n",
       "      <td>6</td>\n",
       "      <td>0</td>\n",
       "      <td>0</td>\n",
       "      <td>1</td>\n",
       "      <td>0</td>\n",
       "    </tr>\n",
       "    <tr>\n",
       "      <th>3</th>\n",
       "      <td>four</td>\n",
       "      <td>four</td>\n",
       "      <td>4.0</td>\n",
       "      <td>4</td>\n",
       "      <td>0</td>\n",
       "      <td>1</td>\n",
       "      <td>0</td>\n",
       "      <td>0</td>\n",
       "    </tr>\n",
       "    <tr>\n",
       "      <th>4</th>\n",
       "      <td>four</td>\n",
       "      <td>five</td>\n",
       "      <td>4.0</td>\n",
       "      <td>5</td>\n",
       "      <td>1</td>\n",
       "      <td>0</td>\n",
       "      <td>0</td>\n",
       "      <td>0</td>\n",
       "    </tr>\n",
       "  </tbody>\n",
       "</table>\n",
       "</div>"
      ],
      "text/plain": [
       "  num-of-doors num-of-cylinders  doors  cylinders  drive-wheels_4wd  drive-wheels_fwd  drive-wheels_rwd  aspiration_turbo\n",
       "0          two             four    2.0          4                 0                 0                 1                 0\n",
       "1          two             four    2.0          4                 0                 0                 1                 0\n",
       "2          two              six    2.0          6                 0                 0                 1                 0\n",
       "3         four             four    4.0          4                 0                 1                 0                 0\n",
       "4         four             five    4.0          5                 1                 0                 0                 0"
      ]
     },
     "execution_count": 29,
     "metadata": {},
     "output_type": "execute_result"
    }
   ],
   "source": [
    "df_car.head()"
   ]
  },
  {
   "cell_type": "code",
   "execution_count": null,
   "id": "8c4f608f",
   "metadata": {},
   "outputs": [],
   "source": []
  }
 ],
 "metadata": {
  "kernelspec": {
   "display_name": "conda_python3",
   "language": "python",
   "name": "conda_python3"
  },
  "language_info": {
   "codemirror_mode": {
    "name": "ipython",
    "version": 3
   },
   "file_extension": ".py",
   "mimetype": "text/x-python",
   "name": "python",
   "nbconvert_exporter": "python",
   "pygments_lexer": "ipython3",
   "version": "3.6.13"
  }
 },
 "nbformat": 4,
 "nbformat_minor": 5
}
